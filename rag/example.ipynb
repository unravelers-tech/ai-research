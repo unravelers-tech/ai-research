{
 "cells": [
  {
   "cell_type": "code",
   "execution_count": null,
   "metadata": {},
   "outputs": [],
   "source": [
    "from doc_retriver import DocumentRetriever\n",
    "from rag_chain import RAGChain\n",
    "from llama import LlamaModel\n",
    "from gpt import GPTModel"
   ]
  },
  {
   "cell_type": "code",
   "execution_count": null,
   "metadata": {},
   "outputs": [],
   "source": [
    "gpt4o_model = GPTModel('<openai_api_key>')\n",
    "llama = LlamaModel(\"<model_path>\")"
   ]
  },
  {
   "cell_type": "code",
   "execution_count": null,
   "metadata": {},
   "outputs": [],
   "source": [
    "doc_retriever = DocumentRetriever()\n",
    "doc_retriever.load_web_document(\"https://unravelers.com/about-us\")\n",
    "doc_retriever.load_pdf_document(\"/kaggle/input/pdf-data/CoffeeB_Manual_Globe_EN_10.08.2022.pdf\")"
   ]
  },
  {
   "cell_type": "code",
   "execution_count": null,
   "metadata": {},
   "outputs": [],
   "source": [
    "prompt = \"How can I resolve the issue of my coffee being trapped in the machine?\""
   ]
  },
  {
   "cell_type": "code",
   "execution_count": null,
   "metadata": {},
   "outputs": [],
   "source": [
    "rag_gpt4o = RAGChain(gpt4o_model, doc_retriever.get_retriever())\n",
    "rag_llama = RAGChain(llama, doc_retriever.get_retriever())"
   ]
  },
  {
   "cell_type": "code",
   "execution_count": null,
   "metadata": {},
   "outputs": [],
   "source": [
    "response, docs = rag_gpt4o.generate_answer(prompt)\n",
    "print(\"Generated Answer:\", response['answer'])\n",
    "print(\"Generation Time:\", response['time'])"
   ]
  },
  {
   "cell_type": "code",
   "execution_count": null,
   "metadata": {},
   "outputs": [],
   "source": [
    "response, docs = rag_llama.generate_answer(prompt)\n",
    "print(\"Generated Answer:\", response['answer'])\n",
    "print(\"Generation Time:\", response['time'])"
   ]
  },
  {
   "cell_type": "code",
   "execution_count": null,
   "metadata": {},
   "outputs": [],
   "source": [
    "prompt = \"What did Unravel Technologies do?\""
   ]
  },
  {
   "cell_type": "code",
   "execution_count": null,
   "metadata": {},
   "outputs": [],
   "source": [
    "response, docs = rag_gpt4o.generate_answer(prompt)\n",
    "print(\"Generated Answer:\", response['answer'])\n",
    "print(\"Generation Time:\", response['time'])"
   ]
  },
  {
   "cell_type": "code",
   "execution_count": null,
   "metadata": {},
   "outputs": [],
   "source": [
    "response, docs = rag_llama.generate_answer(prompt)\n",
    "print(\"Generated Answer:\", response['answer'])\n",
    "print(\"Generation Time:\", response['time'])"
   ]
  }
 ],
 "metadata": {
  "language_info": {
   "name": "python"
  }
 },
 "nbformat": 4,
 "nbformat_minor": 2
}
