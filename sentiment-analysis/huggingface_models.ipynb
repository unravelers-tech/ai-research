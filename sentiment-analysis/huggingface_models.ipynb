{
  "cells": [
    {
      "cell_type": "markdown",
      "metadata": {},
      "source": [
        "# Hugging Face for sentiment analysis"
      ]
    },
    {
      "cell_type": "code",
      "execution_count": 1,
      "metadata": {
        "id": "95cT--HkWkmV"
      },
      "outputs": [],
      "source": [
        "import pandas as pd\n",
        "\n",
        "from sklearn.metrics import accuracy_score,confusion_matrix,classification_report\n",
        "\n",
        "from transformers import pipeline\n",
        "\n",
        "import warnings\n",
        "warnings.filterwarnings('ignore')"
      ]
    },
    {
      "cell_type": "code",
      "execution_count": 2,
      "metadata": {
        "id": "CZlZej0maltu"
      },
      "outputs": [],
      "source": [
        "df = pd.read_csv('data\\\\test_set_twitter.csv')"
      ]
    },
    {
      "cell_type": "code",
      "execution_count": null,
      "metadata": {},
      "outputs": [],
      "source": [
        "def truncate_text(text, max_length):\n",
        "\n",
        "    return text[:max_length] if len(text) > max_length else text\n",
        "\n",
        "def classify_text(text, truncate_text, classifier, max_length):\n",
        "\n",
        "    if text.strip():\n",
        "        truncated_text = truncate_text(text, max_length)\n",
        "        result = classifier(truncated_text)[0]\n",
        "        max_label = max(result, key=lambda x: x['score'])\n",
        "        return max_label['label']\n",
        "    return None\n",
        "\n",
        "def classify_sentiments(texts, classifier, max_length=512, true_labels=None):\n",
        "\n",
        "    results = []\n",
        "    for text in texts:\n",
        "        label = classify_text(text, truncate_text, classifier, max_length)\n",
        "        results.append(label)\n",
        "\n",
        "    if true_labels is not None:\n",
        "        label_mapping = {'negative': 0, 'neutral': 1, 'positive': 2}\n",
        "        numerical_results = [label_mapping[label] for label in results]\n",
        "        report = classification_report(true_labels, numerical_results)\n",
        "        return results, report\n",
        "\n",
        "    return results"
      ]
    },
    {
      "cell_type": "markdown",
      "metadata": {},
      "source": [
        "### Hugging Face - model 1"
      ]
    },
    {
      "cell_type": "code",
      "execution_count": 3,
      "metadata": {
        "colab": {
          "base_uri": "https://localhost:8080/"
        },
        "id": "GYmgC-Sqq-9t",
        "outputId": "f0f15255-925e-4c90-b9ca-1cdd9080bf58"
      },
      "outputs": [
        {
          "name": "stderr",
          "output_type": "stream",
          "text": [
            "Some weights of the model checkpoint at cardiffnlp/twitter-roberta-base-sentiment-latest were not used when initializing RobertaForSequenceClassification: ['roberta.pooler.dense.bias', 'roberta.pooler.dense.weight']\n",
            "- This IS expected if you are initializing RobertaForSequenceClassification from the checkpoint of a model trained on another task or with another architecture (e.g. initializing a BertForSequenceClassification model from a BertForPreTraining model).\n",
            "- This IS NOT expected if you are initializing RobertaForSequenceClassification from the checkpoint of a model that you expect to be exactly identical (initializing a BertForSequenceClassification model from a BertForSequenceClassification model).\n"
          ]
        }
      ],
      "source": [
        "sentiment_classifier = pipeline(\n",
        "    model=\"cardiffnlp/twitter-roberta-base-sentiment-latest\",\n",
        "    device=0,\n",
        "    return_all_scores=True\n",
        ")"
      ]
    },
    {
      "cell_type": "code",
      "execution_count": 5,
      "metadata": {
        "colab": {
          "base_uri": "https://localhost:8080/"
        },
        "id": "BQ4RnwA_Wyvx",
        "outputId": "2770b046-9cc1-4ba8-b79a-614e8567b3c8"
      },
      "outputs": [
        {
          "name": "stderr",
          "output_type": "stream",
          "text": [
            "You seem to be using the pipelines sequentially on GPU. In order to maximize efficiency please use a dataset\n"
          ]
        },
        {
          "name": "stdout",
          "output_type": "stream",
          "text": [
            "Classification Report:\n",
            "               precision    recall  f1-score   support\n",
            "\n",
            "         0.0       0.52      0.66      0.58       667\n",
            "         1.0       0.47      0.62      0.53       667\n",
            "         2.0       0.70      0.29      0.41       667\n",
            "\n",
            "    accuracy                           0.52      2001\n",
            "   macro avg       0.56      0.52      0.51      2001\n",
            "weighted avg       0.56      0.52      0.51      2001\n",
            "\n"
          ]
        }
      ],
      "source": [
        "classification_results, classification_report_output = classify_sentiments(df['content'], sentiment_classifier, true_labels=df['label'])\n",
        "\n",
        "print(\"Classification Report:\\n\", classification_report_output)\n"
      ]
    },
    {
      "cell_type": "markdown",
      "metadata": {},
      "source": [
        "### Hugging Face - model 2"
      ]
    },
    {
      "cell_type": "code",
      "execution_count": 6,
      "metadata": {
        "id": "TrFNDp70u9lu"
      },
      "outputs": [],
      "source": [
        "distilbert_sentiment_classifier = pipeline(\n",
        "    model=\"lxyuan/distilbert-base-multilingual-cased-sentiments-student\",\n",
        "    device=0,\n",
        "    return_all_scores=True\n",
        ")"
      ]
    },
    {
      "cell_type": "code",
      "execution_count": 7,
      "metadata": {
        "colab": {
          "base_uri": "https://localhost:8080/"
        },
        "id": "lRpQnj-SXJrg",
        "outputId": "44472b36-a863-42ab-9af8-7ac9d200da19"
      },
      "outputs": [
        {
          "name": "stdout",
          "output_type": "stream",
          "text": [
            "Classification Report:\n",
            "               precision    recall  f1-score   support\n",
            "\n",
            "         0.0       0.45      0.87      0.59       667\n",
            "         1.0       0.53      0.04      0.07       667\n",
            "         2.0       0.48      0.48      0.48       667\n",
            "\n",
            "    accuracy                           0.46      2001\n",
            "   macro avg       0.49      0.46      0.38      2001\n",
            "weighted avg       0.49      0.46      0.38      2001\n",
            "\n"
          ]
        }
      ],
      "source": [
        "classification_results, classification_report_output = classify_sentiments(df['content'], distilbert_sentiment_classifier, true_labels=df['label'])\n",
        "\n",
        "\n",
        "print(\"Classification Report:\\n\", classification_report_output)\n"
      ]
    }
  ],
  "metadata": {
    "accelerator": "GPU",
    "colab": {
      "gpuType": "L4",
      "machine_shape": "hm",
      "provenance": []
    },
    "kernelspec": {
      "display_name": "Python 3",
      "name": "python3"
    },
    "language_info": {
      "codemirror_mode": {
        "name": "ipython",
        "version": 3
      },
      "file_extension": ".py",
      "mimetype": "text/x-python",
      "name": "python",
      "nbconvert_exporter": "python",
      "pygments_lexer": "ipython3",
      "version": "3.10.11"
    }
  },
  "nbformat": 4,
  "nbformat_minor": 0
}
