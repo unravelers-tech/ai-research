{
 "cells": [
  {
   "cell_type": "markdown",
   "metadata": {},
   "source": [
    "# ChatGPT4o-mini for sentiment analysis"
   ]
  },
  {
   "cell_type": "code",
   "execution_count": 1,
   "metadata": {},
   "outputs": [],
   "source": [
    "from sklearn.metrics import classification_report\n",
    "from concurrent.futures import ThreadPoolExecutor\n",
    "from collections import Counter\n",
    "from pydantic import BaseModel\n",
    "from typing import Optional\n",
    "from openai import OpenAI\n",
    "from enum import Enum"
   ]
  },
  {
   "cell_type": "code",
   "execution_count": 2,
   "metadata": {},
   "outputs": [],
   "source": [
    "client = OpenAI()"
   ]
  },
  {
   "cell_type": "code",
   "execution_count": 3,
   "metadata": {},
   "outputs": [],
   "source": [
    "class Category(str, Enum):\n",
    "    negative = \"negative\"\n",
    "    neutral = \"neutral\"\n",
    "    positive = \"positive\"\n",
    "\n",
    "class ContentCompliance(BaseModel):\n",
    "    category: Optional[Category]"
   ]
  },
  {
   "cell_type": "code",
   "execution_count": 4,
   "metadata": {},
   "outputs": [],
   "source": [
    "\n",
    "def classify_message_4o_mini(message):\n",
    "    completion = client.beta.chat.completions.parse(\n",
    "        model=\"gpt-4o-mini-2024-07-18\",\n",
    "        messages=[\n",
    "            {\"role\": \"system\", \"content\": \"Classify the following message as negative, neutral or positive.\"},\n",
    "            {\"role\": \"user\", \"content\": message}\n",
    "        ],\n",
    "        response_format=ContentCompliance, \n",
    "    )\n",
    "    category = completion.choices[0].message.parsed.category\n",
    "\n",
    "    if category == \"negative\":\n",
    "        return 0\n",
    "    elif category == \"neutral\":\n",
    "        return 1\n",
    "    elif category == \"positive\":\n",
    "        return 2\n",
    "    \n",
    "    return None\n",
    "\n",
    "def classify_messag_4o_mine_fine_tune(message):\n",
    "    completion = client.beta.chat.completions.parse(\n",
    "        model=\"ft:gpt-4o-mini-2024-07-18:unravel-technologies:sentiment-analysis:Aa1JpFBO\",\n",
    "        messages=[\n",
    "            {\"role\": \"system\", \"content\": \"Classify the following message as negative, neutral or positive.\"},\n",
    "            {\"role\": \"user\", \"content\": message}\n",
    "        ],\n",
    "        response_format=ContentCompliance, \n",
    "    )\n",
    "    category = completion.choices[0].message.parsed.category\n",
    "\n",
    "    if category == \"negative\":\n",
    "        return 0\n",
    "    elif category == \"neutral\":\n",
    "        return 1\n",
    "    elif category == \"positive\":\n",
    "        return 2\n",
    "    \n",
    "    return None\n",
    "    \n",
    "    \n",
    "def classify_messages_parallel(messages, classifier, max_workers=10):\n",
    "    with ThreadPoolExecutor(max_workers=max_workers) as executor:\n",
    "        results = list(executor.map(classifier, messages))\n",
    "    return results\n",
    "\n",
    "\n",
    "def process_classification_results(df, predictions):\n",
    "    predictions_fix = [0 if p is None else p for p in predictions]\n",
    "\n",
    "    print(classification_report(df['label'].tolist(), predictions_fix))"
   ]
  },
  {
   "cell_type": "code",
   "execution_count": 5,
   "metadata": {},
   "outputs": [],
   "source": [
    "import pandas as pd\n",
    "\n",
    "df = pd.read_csv('data\\\\test_set_twitter.csv')"
   ]
  },
  {
   "cell_type": "markdown",
   "metadata": {},
   "source": [
    "### ChatGPT 4o-mini"
   ]
  },
  {
   "cell_type": "code",
   "execution_count": 6,
   "metadata": {},
   "outputs": [
    {
     "name": "stdout",
     "output_type": "stream",
     "text": [
      "              precision    recall  f1-score   support\n",
      "\n",
      "         0.0       0.44      0.82      0.58       667\n",
      "         1.0       0.51      0.37      0.43       667\n",
      "         2.0       0.56      0.24      0.33       667\n",
      "\n",
      "    accuracy                           0.48      2001\n",
      "   macro avg       0.50      0.48      0.45      2001\n",
      "weighted avg       0.50      0.48      0.45      2001\n",
      "\n"
     ]
    }
   ],
   "source": [
    "predictions = classify_messages_parallel(df['content'].tolist(), classify_message_4o_mini)\n",
    "\n",
    "process_classification_results(df, predictions)"
   ]
  },
  {
   "cell_type": "markdown",
   "metadata": {},
   "source": [
    "### ChatGPT 4o-mini fine-tune"
   ]
  },
  {
   "cell_type": "code",
   "execution_count": 7,
   "metadata": {},
   "outputs": [
    {
     "name": "stdout",
     "output_type": "stream",
     "text": [
      "              precision    recall  f1-score   support\n",
      "\n",
      "         0.0       0.66      0.73      0.69       667\n",
      "         1.0       0.70      0.76      0.73       667\n",
      "         2.0       0.75      0.59      0.66       667\n",
      "\n",
      "    accuracy                           0.70      2001\n",
      "   macro avg       0.70      0.70      0.70      2001\n",
      "weighted avg       0.70      0.70      0.70      2001\n",
      "\n"
     ]
    }
   ],
   "source": [
    "predictions = classify_messages_parallel(df['content'].tolist(), classify_messag_4o_mine_fine_tune)\n",
    "\n",
    "process_classification_results(df, predictions)"
   ]
  }
 ],
 "metadata": {
  "kernelspec": {
   "display_name": "venv",
   "language": "python",
   "name": "python3"
  },
  "language_info": {
   "codemirror_mode": {
    "name": "ipython",
    "version": 3
   },
   "file_extension": ".py",
   "mimetype": "text/x-python",
   "name": "python",
   "nbconvert_exporter": "python",
   "pygments_lexer": "ipython3",
   "version": "3.10.11"
  }
 },
 "nbformat": 4,
 "nbformat_minor": 2
}
