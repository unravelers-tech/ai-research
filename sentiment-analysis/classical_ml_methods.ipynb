{
  "cells": [
    {
      "cell_type": "markdown",
      "metadata": {},
      "source": [
        "# Sentiment analysis using classical ml methods"
      ]
    },
    {
      "cell_type": "code",
      "execution_count": null,
      "metadata": {
        "execution": {
          "iopub.execute_input": "2024-11-17T23:17:49.956147Z",
          "iopub.status.busy": "2024-11-17T23:17:49.955596Z",
          "iopub.status.idle": "2024-11-17T23:17:58.670864Z",
          "shell.execute_reply": "2024-11-17T23:17:58.669958Z",
          "shell.execute_reply.started": "2024-11-17T23:17:49.955885Z"
        },
        "id": "GicY7vSJjg40",
        "trusted": true
      },
      "outputs": [],
      "source": [
        "import pandas as pd\n",
        "from sklearn.feature_extraction.text import TfidfVectorizer\n",
        "from sklearn.model_selection import train_test_split\n",
        "\n",
        "import time\n",
        "import matplotlib.pyplot as plt\n",
        "\n",
        "from sklearn.pipeline import Pipeline\n",
        "from sklearn.feature_selection import SelectFromModel\n",
        "from sklearn.svm import LinearSVC\n",
        "from sklearn.model_selection import GridSearchCV\n",
        "\n",
        "from sklearn.metrics import classification_report\n",
        "from sklearn import metrics\n",
        "\n",
        "import warnings\n",
        "\n",
        "from sklearn.naive_bayes import MultinomialNB\n",
        "from sklearn.svm import SVC\n",
        "from sklearn.neighbors import KNeighborsClassifier\n",
        "from sklearn.tree import DecisionTreeClassifier\n",
        "from sklearn.neural_network import MLPClassifier"
      ]
    },
    {
      "cell_type": "code",
      "execution_count": null,
      "metadata": {
        "execution": {
          "iopub.execute_input": "2024-11-17T23:17:58.673168Z",
          "iopub.status.busy": "2024-11-17T23:17:58.672811Z",
          "iopub.status.idle": "2024-11-17T23:17:59.502938Z",
          "shell.execute_reply": "2024-11-17T23:17:59.502034Z",
          "shell.execute_reply.started": "2024-11-17T23:17:58.673123Z"
        },
        "id": "y0HZK3d0jg44",
        "trusted": true
      },
      "outputs": [],
      "source": [
        "file_path = 'data\\\\Twitter_Data.csv'\n",
        "df = pd.read_csv(file_path)"
      ]
    },
    {
      "cell_type": "code",
      "execution_count": null,
      "metadata": {
        "colab": {
          "base_uri": "https://localhost:8080/",
          "height": 206
        },
        "execution": {
          "iopub.execute_input": "2024-11-17T23:17:59.504490Z",
          "iopub.status.busy": "2024-11-17T23:17:59.504183Z",
          "iopub.status.idle": "2024-11-17T23:17:59.535030Z",
          "shell.execute_reply": "2024-11-17T23:17:59.534198Z",
          "shell.execute_reply.started": "2024-11-17T23:17:59.504451Z"
        },
        "id": "PPtdZJ-gjg44",
        "outputId": "6956a05c-e6a7-4bbb-823a-81cb37f764f0",
        "trusted": true
      },
      "outputs": [
        {
          "data": {
            "application/vnd.google.colaboratory.intrinsic+json": {
              "type": "dataframe",
              "variable_name": "df"
            },
            "text/html": [
              "\n",
              "  <div id=\"df-aec42457-97da-4820-8e71-5eda02ed4dea\" class=\"colab-df-container\">\n",
              "    <div>\n",
              "<style scoped>\n",
              "    .dataframe tbody tr th:only-of-type {\n",
              "        vertical-align: middle;\n",
              "    }\n",
              "\n",
              "    .dataframe tbody tr th {\n",
              "        vertical-align: top;\n",
              "    }\n",
              "\n",
              "    .dataframe thead th {\n",
              "        text-align: right;\n",
              "    }\n",
              "</style>\n",
              "<table border=\"1\" class=\"dataframe\">\n",
              "  <thead>\n",
              "    <tr style=\"text-align: right;\">\n",
              "      <th></th>\n",
              "      <th>clean_text</th>\n",
              "      <th>category</th>\n",
              "    </tr>\n",
              "  </thead>\n",
              "  <tbody>\n",
              "    <tr>\n",
              "      <th>0</th>\n",
              "      <td>when modi promised “minimum government maximum...</td>\n",
              "      <td>-1.0</td>\n",
              "    </tr>\n",
              "    <tr>\n",
              "      <th>1</th>\n",
              "      <td>talk all the nonsense and continue all the dra...</td>\n",
              "      <td>0.0</td>\n",
              "    </tr>\n",
              "    <tr>\n",
              "      <th>2</th>\n",
              "      <td>what did just say vote for modi  welcome bjp t...</td>\n",
              "      <td>1.0</td>\n",
              "    </tr>\n",
              "    <tr>\n",
              "      <th>3</th>\n",
              "      <td>asking his supporters prefix chowkidar their n...</td>\n",
              "      <td>1.0</td>\n",
              "    </tr>\n",
              "    <tr>\n",
              "      <th>4</th>\n",
              "      <td>answer who among these the most powerful world...</td>\n",
              "      <td>1.0</td>\n",
              "    </tr>\n",
              "  </tbody>\n",
              "</table>\n",
              "</div>\n",
              "    <div class=\"colab-df-buttons\">\n",
              "\n",
              "  <div class=\"colab-df-container\">\n",
              "    <button class=\"colab-df-convert\" onclick=\"convertToInteractive('df-aec42457-97da-4820-8e71-5eda02ed4dea')\"\n",
              "            title=\"Convert this dataframe to an interactive table.\"\n",
              "            style=\"display:none;\">\n",
              "\n",
              "  <svg xmlns=\"http://www.w3.org/2000/svg\" height=\"24px\" viewBox=\"0 -960 960 960\">\n",
              "    <path d=\"M120-120v-720h720v720H120Zm60-500h600v-160H180v160Zm220 220h160v-160H400v160Zm0 220h160v-160H400v160ZM180-400h160v-160H180v160Zm440 0h160v-160H620v160ZM180-180h160v-160H180v160Zm440 0h160v-160H620v160Z\"/>\n",
              "  </svg>\n",
              "    </button>\n",
              "\n",
              "  <style>\n",
              "    .colab-df-container {\n",
              "      display:flex;\n",
              "      gap: 12px;\n",
              "    }\n",
              "\n",
              "    .colab-df-convert {\n",
              "      background-color: #E8F0FE;\n",
              "      border: none;\n",
              "      border-radius: 50%;\n",
              "      cursor: pointer;\n",
              "      display: none;\n",
              "      fill: #1967D2;\n",
              "      height: 32px;\n",
              "      padding: 0 0 0 0;\n",
              "      width: 32px;\n",
              "    }\n",
              "\n",
              "    .colab-df-convert:hover {\n",
              "      background-color: #E2EBFA;\n",
              "      box-shadow: 0px 1px 2px rgba(60, 64, 67, 0.3), 0px 1px 3px 1px rgba(60, 64, 67, 0.15);\n",
              "      fill: #174EA6;\n",
              "    }\n",
              "\n",
              "    .colab-df-buttons div {\n",
              "      margin-bottom: 4px;\n",
              "    }\n",
              "\n",
              "    [theme=dark] .colab-df-convert {\n",
              "      background-color: #3B4455;\n",
              "      fill: #D2E3FC;\n",
              "    }\n",
              "\n",
              "    [theme=dark] .colab-df-convert:hover {\n",
              "      background-color: #434B5C;\n",
              "      box-shadow: 0px 1px 3px 1px rgba(0, 0, 0, 0.15);\n",
              "      filter: drop-shadow(0px 1px 2px rgba(0, 0, 0, 0.3));\n",
              "      fill: #FFFFFF;\n",
              "    }\n",
              "  </style>\n",
              "\n",
              "    <script>\n",
              "      const buttonEl =\n",
              "        document.querySelector('#df-aec42457-97da-4820-8e71-5eda02ed4dea button.colab-df-convert');\n",
              "      buttonEl.style.display =\n",
              "        google.colab.kernel.accessAllowed ? 'block' : 'none';\n",
              "\n",
              "      async function convertToInteractive(key) {\n",
              "        const element = document.querySelector('#df-aec42457-97da-4820-8e71-5eda02ed4dea');\n",
              "        const dataTable =\n",
              "          await google.colab.kernel.invokeFunction('convertToInteractive',\n",
              "                                                    [key], {});\n",
              "        if (!dataTable) return;\n",
              "\n",
              "        const docLinkHtml = 'Like what you see? Visit the ' +\n",
              "          '<a target=\"_blank\" href=https://colab.research.google.com/notebooks/data_table.ipynb>data table notebook</a>'\n",
              "          + ' to learn more about interactive tables.';\n",
              "        element.innerHTML = '';\n",
              "        dataTable['output_type'] = 'display_data';\n",
              "        await google.colab.output.renderOutput(dataTable, element);\n",
              "        const docLink = document.createElement('div');\n",
              "        docLink.innerHTML = docLinkHtml;\n",
              "        element.appendChild(docLink);\n",
              "      }\n",
              "    </script>\n",
              "  </div>\n",
              "\n",
              "\n",
              "<div id=\"df-c47e1a9a-7c7e-4fbc-99bd-89a45eddebfa\">\n",
              "  <button class=\"colab-df-quickchart\" onclick=\"quickchart('df-c47e1a9a-7c7e-4fbc-99bd-89a45eddebfa')\"\n",
              "            title=\"Suggest charts\"\n",
              "            style=\"display:none;\">\n",
              "\n",
              "<svg xmlns=\"http://www.w3.org/2000/svg\" height=\"24px\"viewBox=\"0 0 24 24\"\n",
              "     width=\"24px\">\n",
              "    <g>\n",
              "        <path d=\"M19 3H5c-1.1 0-2 .9-2 2v14c0 1.1.9 2 2 2h14c1.1 0 2-.9 2-2V5c0-1.1-.9-2-2-2zM9 17H7v-7h2v7zm4 0h-2V7h2v10zm4 0h-2v-4h2v4z\"/>\n",
              "    </g>\n",
              "</svg>\n",
              "  </button>\n",
              "\n",
              "<style>\n",
              "  .colab-df-quickchart {\n",
              "      --bg-color: #E8F0FE;\n",
              "      --fill-color: #1967D2;\n",
              "      --hover-bg-color: #E2EBFA;\n",
              "      --hover-fill-color: #174EA6;\n",
              "      --disabled-fill-color: #AAA;\n",
              "      --disabled-bg-color: #DDD;\n",
              "  }\n",
              "\n",
              "  [theme=dark] .colab-df-quickchart {\n",
              "      --bg-color: #3B4455;\n",
              "      --fill-color: #D2E3FC;\n",
              "      --hover-bg-color: #434B5C;\n",
              "      --hover-fill-color: #FFFFFF;\n",
              "      --disabled-bg-color: #3B4455;\n",
              "      --disabled-fill-color: #666;\n",
              "  }\n",
              "\n",
              "  .colab-df-quickchart {\n",
              "    background-color: var(--bg-color);\n",
              "    border: none;\n",
              "    border-radius: 50%;\n",
              "    cursor: pointer;\n",
              "    display: none;\n",
              "    fill: var(--fill-color);\n",
              "    height: 32px;\n",
              "    padding: 0;\n",
              "    width: 32px;\n",
              "  }\n",
              "\n",
              "  .colab-df-quickchart:hover {\n",
              "    background-color: var(--hover-bg-color);\n",
              "    box-shadow: 0 1px 2px rgba(60, 64, 67, 0.3), 0 1px 3px 1px rgba(60, 64, 67, 0.15);\n",
              "    fill: var(--button-hover-fill-color);\n",
              "  }\n",
              "\n",
              "  .colab-df-quickchart-complete:disabled,\n",
              "  .colab-df-quickchart-complete:disabled:hover {\n",
              "    background-color: var(--disabled-bg-color);\n",
              "    fill: var(--disabled-fill-color);\n",
              "    box-shadow: none;\n",
              "  }\n",
              "\n",
              "  .colab-df-spinner {\n",
              "    border: 2px solid var(--fill-color);\n",
              "    border-color: transparent;\n",
              "    border-bottom-color: var(--fill-color);\n",
              "    animation:\n",
              "      spin 1s steps(1) infinite;\n",
              "  }\n",
              "\n",
              "  @keyframes spin {\n",
              "    0% {\n",
              "      border-color: transparent;\n",
              "      border-bottom-color: var(--fill-color);\n",
              "      border-left-color: var(--fill-color);\n",
              "    }\n",
              "    20% {\n",
              "      border-color: transparent;\n",
              "      border-left-color: var(--fill-color);\n",
              "      border-top-color: var(--fill-color);\n",
              "    }\n",
              "    30% {\n",
              "      border-color: transparent;\n",
              "      border-left-color: var(--fill-color);\n",
              "      border-top-color: var(--fill-color);\n",
              "      border-right-color: var(--fill-color);\n",
              "    }\n",
              "    40% {\n",
              "      border-color: transparent;\n",
              "      border-right-color: var(--fill-color);\n",
              "      border-top-color: var(--fill-color);\n",
              "    }\n",
              "    60% {\n",
              "      border-color: transparent;\n",
              "      border-right-color: var(--fill-color);\n",
              "    }\n",
              "    80% {\n",
              "      border-color: transparent;\n",
              "      border-right-color: var(--fill-color);\n",
              "      border-bottom-color: var(--fill-color);\n",
              "    }\n",
              "    90% {\n",
              "      border-color: transparent;\n",
              "      border-bottom-color: var(--fill-color);\n",
              "    }\n",
              "  }\n",
              "</style>\n",
              "\n",
              "  <script>\n",
              "    async function quickchart(key) {\n",
              "      const quickchartButtonEl =\n",
              "        document.querySelector('#' + key + ' button');\n",
              "      quickchartButtonEl.disabled = true;  // To prevent multiple clicks.\n",
              "      quickchartButtonEl.classList.add('colab-df-spinner');\n",
              "      try {\n",
              "        const charts = await google.colab.kernel.invokeFunction(\n",
              "            'suggestCharts', [key], {});\n",
              "      } catch (error) {\n",
              "        console.error('Error during call to suggestCharts:', error);\n",
              "      }\n",
              "      quickchartButtonEl.classList.remove('colab-df-spinner');\n",
              "      quickchartButtonEl.classList.add('colab-df-quickchart-complete');\n",
              "    }\n",
              "    (() => {\n",
              "      let quickchartButtonEl =\n",
              "        document.querySelector('#df-c47e1a9a-7c7e-4fbc-99bd-89a45eddebfa button');\n",
              "      quickchartButtonEl.style.display =\n",
              "        google.colab.kernel.accessAllowed ? 'block' : 'none';\n",
              "    })();\n",
              "  </script>\n",
              "</div>\n",
              "    </div>\n",
              "  </div>\n"
            ],
            "text/plain": [
              "                                          clean_text  category\n",
              "0  when modi promised “minimum government maximum...      -1.0\n",
              "1  talk all the nonsense and continue all the dra...       0.0\n",
              "2  what did just say vote for modi  welcome bjp t...       1.0\n",
              "3  asking his supporters prefix chowkidar their n...       1.0\n",
              "4  answer who among these the most powerful world...       1.0"
            ]
          },
          "execution_count": 3,
          "metadata": {},
          "output_type": "execute_result"
        }
      ],
      "source": [
        "df.head()"
      ]
    },
    {
      "cell_type": "code",
      "execution_count": null,
      "metadata": {
        "colab": {
          "base_uri": "https://localhost:8080/"
        },
        "id": "aV8Ql6T0jg45",
        "outputId": "09863a9c-9a0a-4bfb-9c5c-5a6a2e2f8765"
      },
      "outputs": [
        {
          "name": "stdout",
          "output_type": "stream",
          "text": [
            "<class 'pandas.core.frame.DataFrame'>\n",
            "RangeIndex: 139424 entries, 0 to 139423\n",
            "Data columns (total 2 columns):\n",
            " #   Column      Non-Null Count   Dtype  \n",
            "---  ------      --------------   -----  \n",
            " 0   clean_text  139423 non-null  object \n",
            " 1   category    139422 non-null  float64\n",
            "dtypes: float64(1), object(1)\n",
            "memory usage: 2.1+ MB\n"
          ]
        }
      ],
      "source": [
        "df.info()"
      ]
    },
    {
      "cell_type": "code",
      "execution_count": null,
      "metadata": {
        "colab": {
          "base_uri": "https://localhost:8080/",
          "height": 147
        },
        "execution": {
          "iopub.execute_input": "2024-11-17T23:17:59.537183Z",
          "iopub.status.busy": "2024-11-17T23:17:59.536919Z",
          "iopub.status.idle": "2024-11-17T23:17:59.560344Z",
          "shell.execute_reply": "2024-11-17T23:17:59.559377Z",
          "shell.execute_reply.started": "2024-11-17T23:17:59.537151Z"
        },
        "id": "T-l9ue0Yjg45",
        "outputId": "bb2fe9d0-e94d-409c-d143-e8caebbf8111",
        "trusted": true
      },
      "outputs": [
        {
          "data": {
            "text/html": [
              "<div>\n",
              "<style scoped>\n",
              "    .dataframe tbody tr th:only-of-type {\n",
              "        vertical-align: middle;\n",
              "    }\n",
              "\n",
              "    .dataframe tbody tr th {\n",
              "        vertical-align: top;\n",
              "    }\n",
              "\n",
              "    .dataframe thead th {\n",
              "        text-align: right;\n",
              "    }\n",
              "</style>\n",
              "<table border=\"1\" class=\"dataframe\">\n",
              "  <thead>\n",
              "    <tr style=\"text-align: right;\">\n",
              "      <th></th>\n",
              "      <th>0</th>\n",
              "    </tr>\n",
              "  </thead>\n",
              "  <tbody>\n",
              "    <tr>\n",
              "      <th>clean_text</th>\n",
              "      <td>1</td>\n",
              "    </tr>\n",
              "    <tr>\n",
              "      <th>category</th>\n",
              "      <td>2</td>\n",
              "    </tr>\n",
              "  </tbody>\n",
              "</table>\n",
              "</div><br><label><b>dtype:</b> int64</label>"
            ],
            "text/plain": [
              "clean_text    1\n",
              "category      2\n",
              "dtype: int64"
            ]
          },
          "execution_count": 5,
          "metadata": {},
          "output_type": "execute_result"
        }
      ],
      "source": [
        "df.isna().sum()"
      ]
    },
    {
      "cell_type": "code",
      "execution_count": null,
      "metadata": {
        "execution": {
          "iopub.execute_input": "2024-11-17T23:17:59.562597Z",
          "iopub.status.busy": "2024-11-17T23:17:59.561715Z",
          "iopub.status.idle": "2024-11-17T23:17:59.590617Z",
          "shell.execute_reply": "2024-11-17T23:17:59.589659Z",
          "shell.execute_reply.started": "2024-11-17T23:17:59.562551Z"
        },
        "id": "gGnQsOHfjg46",
        "trusted": true
      },
      "outputs": [],
      "source": [
        "df.dropna(subset=['clean_text'], inplace=True)\n",
        "df.dropna(subset=['category'], inplace=True)"
      ]
    },
    {
      "cell_type": "code",
      "execution_count": null,
      "metadata": {
        "colab": {
          "base_uri": "https://localhost:8080/",
          "height": 147
        },
        "id": "sp4aFw9ojg47",
        "outputId": "7771afea-f437-4138-af6e-fda7f1f8e63d"
      },
      "outputs": [
        {
          "data": {
            "text/html": [
              "<div>\n",
              "<style scoped>\n",
              "    .dataframe tbody tr th:only-of-type {\n",
              "        vertical-align: middle;\n",
              "    }\n",
              "\n",
              "    .dataframe tbody tr th {\n",
              "        vertical-align: top;\n",
              "    }\n",
              "\n",
              "    .dataframe thead th {\n",
              "        text-align: right;\n",
              "    }\n",
              "</style>\n",
              "<table border=\"1\" class=\"dataframe\">\n",
              "  <thead>\n",
              "    <tr style=\"text-align: right;\">\n",
              "      <th></th>\n",
              "      <th>0</th>\n",
              "    </tr>\n",
              "  </thead>\n",
              "  <tbody>\n",
              "    <tr>\n",
              "      <th>clean_text</th>\n",
              "      <td>0</td>\n",
              "    </tr>\n",
              "    <tr>\n",
              "      <th>category</th>\n",
              "      <td>0</td>\n",
              "    </tr>\n",
              "  </tbody>\n",
              "</table>\n",
              "</div><br><label><b>dtype:</b> int64</label>"
            ],
            "text/plain": [
              "clean_text    0\n",
              "category      0\n",
              "dtype: int64"
            ]
          },
          "execution_count": 7,
          "metadata": {},
          "output_type": "execute_result"
        }
      ],
      "source": [
        "df.isna().sum()"
      ]
    },
    {
      "cell_type": "markdown",
      "metadata": {
        "id": "BzngYfupjg48"
      },
      "source": [
        "### Data Visualization"
      ]
    },
    {
      "cell_type": "code",
      "execution_count": null,
      "metadata": {
        "colab": {
          "base_uri": "https://localhost:8080/",
          "height": 559
        },
        "execution": {
          "iopub.execute_input": "2024-11-17T23:18:02.110600Z",
          "iopub.status.busy": "2024-11-17T23:18:02.110296Z",
          "iopub.status.idle": "2024-11-17T23:18:02.282557Z",
          "shell.execute_reply": "2024-11-17T23:18:02.281478Z",
          "shell.execute_reply.started": "2024-11-17T23:18:02.110566Z"
        },
        "id": "ZwCZ2x1vjg49",
        "outputId": "1ad01667-25c9-4c0f-8b01-78fb386b086a",
        "trusted": true
      },
      "outputs": [
        {
          "name": "stdout",
          "output_type": "stream",
          "text": [
            "category\n",
            " 1.0    61754\n",
            " 0.0    47203\n",
            "-1.0    30464\n",
            "Name: count, dtype: int64\n"
          ]
        },
        {
          "data": {
            "image/png": "[encoded data removed]",
            "text/plain": [
              "<Figure size 640x480 with 1 Axes>"
            ]
          },
          "metadata": {},
          "output_type": "display_data"
        }
      ],
      "source": [
        "labels_num = df['category'].value_counts()\n",
        "print(labels_num)\n",
        "labels_num.plot(kind='bar', color=['red', 'green', 'blue'])\n",
        "\n",
        "\n",
        "plt.title('Num of tweets')\n",
        "plt.xlabel('labels ')\n",
        "plt.ylabel('Num of news')\n",
        "plt.xticks(rotation=0)\n",
        "plt.show()"
      ]
    },
    {
      "cell_type": "markdown",
      "metadata": {
        "id": "KGb7qAb8jg4_"
      },
      "source": [
        "### Data Preprocessing"
      ]
    },
    {
      "cell_type": "code",
      "execution_count": null,
      "metadata": {
        "execution": {
          "iopub.execute_input": "2024-11-17T23:28:24.539285Z",
          "iopub.status.busy": "2024-11-17T23:28:24.538918Z",
          "iopub.status.idle": "2024-11-17T23:28:52.033457Z",
          "shell.execute_reply": "2024-11-17T23:28:52.032447Z",
          "shell.execute_reply.started": "2024-11-17T23:28:24.539244Z"
        },
        "id": "AZUHZgUkjg5G",
        "trusted": true
      },
      "outputs": [],
      "source": [
        "# Applying TFIDF Vectorization\n",
        "tfidf = TfidfVectorizer(max_features=5000,ngram_range=(1,3), stop_words=\"english\" )\n",
        "X_tfidf = tfidf.fit_transform(df[\"clean_text\"]).toarray()"
      ]
    },
    {
      "cell_type": "code",
      "execution_count": null,
      "metadata": {
        "execution": {
          "iopub.execute_input": "2024-11-17T23:28:52.100674Z",
          "iopub.status.busy": "2024-11-17T23:28:52.100334Z",
          "iopub.status.idle": "2024-11-17T23:28:55.607552Z",
          "shell.execute_reply": "2024-11-17T23:28:55.606511Z",
          "shell.execute_reply.started": "2024-11-17T23:28:52.100629Z"
        },
        "id": "tDUz-DeVjg5H",
        "trusted": true
      },
      "outputs": [],
      "source": [
        "# Train test Split\n",
        "X_train_tfidf,X_test_tfidf,Y_train_tfidf,Y_test_tfidf = train_test_split(X_tfidf, df[\"category\"], test_size=0.1,random_state = 42)"
      ]
    },
    {
      "cell_type": "markdown",
      "metadata": {},
      "source": [
        "### Training"
      ]
    },
    {
      "cell_type": "code",
      "execution_count": null,
      "metadata": {
        "id": "dWjsj6qroGES"
      },
      "outputs": [],
      "source": [
        "def model_train(model, vectorized_data, model_name, params = None):\n",
        "    warnings.filterwarnings('ignore')\n",
        "\n",
        "    x_train, x_test, y_train, y_test = vectorized_data\n",
        "\n",
        "    start_time = time.time()\n",
        "\n",
        "    model.fit(x_train, y_train)\n",
        "\n",
        "    end_time = time.time()\n",
        "\n",
        "    start_test_time = time.time()\n",
        "\n",
        "    train_score = model.score(x_train, y_train)\n",
        "    test_score = model.score(x_test, y_test)\n",
        "\n",
        "    y_pred = model.predict(x_test)\n",
        "\n",
        "    end_test_time = time.time()\n",
        "\n",
        "    print(model_name)\n",
        "    print(' ')\n",
        "\n",
        "    print(\"Train accuracy: \", train_score)\n",
        "    print(\"Test accuracy:  \", test_score)\n",
        "\n",
        "    print(classification_report(y_test, y_pred))\n",
        "\n",
        "    print(' ')\n",
        "    print('Training time: ', end_time - start_time)\n",
        "    print(' ')\n",
        "    print('Test time: ',end_test_time - start_test_time)"
      ]
    },
    {
      "cell_type": "markdown",
      "metadata": {
        "id": "C-RhBS2EwOMe"
      },
      "source": [
        "### Logistic Regression"
      ]
    },
    {
      "cell_type": "code",
      "execution_count": null,
      "metadata": {
        "id": "g8-EkSXMwLas"
      },
      "outputs": [],
      "source": [
        "from sklearn.linear_model import LogisticRegression"
      ]
    },
    {
      "cell_type": "code",
      "execution_count": null,
      "metadata": {
        "colab": {
          "base_uri": "https://localhost:8080/"
        },
        "id": "jROThJrDwNKn",
        "outputId": "3f3e5511-8234-40d2-e2d8-851a27d36451"
      },
      "outputs": [
        {
          "name": "stdout",
          "output_type": "stream",
          "text": [
            "LogisticRegression\n",
            " \n",
            "Train accuracy:  0.8563015030523279\n",
            "Test accuracy:   0.837696335078534\n",
            "              precision    recall  f1-score   support\n",
            "\n",
            "        -1.0       0.85      0.71      0.77      3071\n",
            "         0.0       0.79      0.95      0.86      4764\n",
            "         1.0       0.88      0.82      0.85      6108\n",
            "\n",
            "    accuracy                           0.84     13943\n",
            "   macro avg       0.84      0.82      0.83     13943\n",
            "weighted avg       0.84      0.84      0.84     13943\n",
            "\n",
            " \n",
            "Training time:  5.218099355697632\n",
            " \n",
            "Test time:  0.7114434242248535\n"
          ]
        }
      ],
      "source": [
        "model_train(LogisticRegression(solver='liblinear'), (X_train_tfidf, X_test_tfidf, Y_train_tfidf,Y_test_tfidf), 'LogisticRegression')"
      ]
    },
    {
      "cell_type": "markdown",
      "metadata": {
        "id": "3hpCbGSRjg5H"
      },
      "source": [
        "### Multinomial Naive Bayes"
      ]
    },
    {
      "cell_type": "code",
      "execution_count": null,
      "metadata": {
        "id": "aJa23we7w4Xp"
      },
      "outputs": [],
      "source": [
        "from sklearn.naive_bayes import MultinomialNB"
      ]
    },
    {
      "cell_type": "code",
      "execution_count": null,
      "metadata": {
        "colab": {
          "base_uri": "https://localhost:8080/"
        },
        "id": "DIpfcN_woecf",
        "outputId": "c42eb8f3-9d17-4b99-d86c-4d721bcc30a1"
      },
      "outputs": [
        {
          "name": "stdout",
          "output_type": "stream",
          "text": [
            "MultinomialNB\n",
            " \n",
            "Train accuracy:  0.7417874049634199\n",
            "Test accuracy:   0.7182098544072294\n",
            "              precision    recall  f1-score   support\n",
            "\n",
            "        -1.0       0.80      0.50      0.61      3071\n",
            "         0.0       0.78      0.68      0.73      4764\n",
            "         1.0       0.67      0.86      0.75      6108\n",
            "\n",
            "    accuracy                           0.72     13943\n",
            "   macro avg       0.75      0.68      0.70     13943\n",
            "weighted avg       0.73      0.72      0.71     13943\n",
            "\n",
            " \n",
            "Training time:  0.7426960468292236\n",
            " \n",
            "Test time:  0.7085342407226562\n"
          ]
        }
      ],
      "source": [
        "model_train(MultinomialNB(alpha=0.1), (X_train_tfidf, X_test_tfidf, Y_train_tfidf,Y_test_tfidf), 'MultinomialNB')"
      ]
    },
    {
      "cell_type": "markdown",
      "metadata": {
        "id": "k43n9NFijg5I"
      },
      "source": [
        "### Decision Tree"
      ]
    },
    {
      "cell_type": "code",
      "execution_count": null,
      "metadata": {
        "id": "EZAiLBJSw3xq"
      },
      "outputs": [],
      "source": [
        "from sklearn.tree import DecisionTreeClassifier\n"
      ]
    },
    {
      "cell_type": "code",
      "execution_count": null,
      "metadata": {
        "colab": {
          "base_uri": "https://localhost:8080/"
        },
        "id": "7EpZ7wbap8-d",
        "outputId": "5318ffeb-81f8-4480-b153-075f65131f12"
      },
      "outputs": [
        {
          "name": "stdout",
          "output_type": "stream",
          "text": [
            "DecisionTreeClassifier\n",
            " \n",
            "Train accuracy:  0.5954828734917674\n",
            "Test accuracy:   0.5849530230223051\n",
            "              precision    recall  f1-score   support\n",
            "\n",
            "        -1.0       0.79      0.20      0.31      3071\n",
            "         0.0       0.50      0.86      0.63      4764\n",
            "         1.0       0.69      0.57      0.62      6108\n",
            "\n",
            "    accuracy                           0.58     13943\n",
            "   macro avg       0.66      0.54      0.52     13943\n",
            "weighted avg       0.65      0.58      0.56     13943\n",
            "\n",
            " \n",
            "Training time:  85.2083330154419\n",
            " \n",
            "Test time:  0.8287065029144287\n"
          ]
        }
      ],
      "source": [
        "model_train(DecisionTreeClassifier(min_samples_split=50, max_depth=19), (X_train_tfidf, X_test_tfidf, Y_train_tfidf,Y_test_tfidf), 'DecisionTreeClassifier')"
      ]
    },
    {
      "cell_type": "code",
      "execution_count": null,
      "metadata": {
        "id": "Lhzba9Qbydy3"
      },
      "outputs": [],
      "source": [
        "from sklearn.neighbors import KNeighborsClassifier"
      ]
    },
    {
      "cell_type": "code",
      "execution_count": null,
      "metadata": {
        "colab": {
          "base_uri": "https://localhost:8080/"
        },
        "id": "lhGly0EbymsE",
        "outputId": "3fc65ad5-6ba1-42f6-b288-dd04c76bbd10"
      },
      "outputs": [
        {
          "name": "stdout",
          "output_type": "stream",
          "text": [
            "KNeighborsClassifier\n",
            " \n",
            "Train accuracy:  0.9971787883134893\n",
            "Test accuracy:   0.47443161443018\n",
            "              precision    recall  f1-score   support\n",
            "\n",
            "        -1.0       0.76      0.16      0.27      3071\n",
            "         0.0       0.40      0.93      0.56      4764\n",
            "         1.0       0.78      0.28      0.41      6108\n",
            "\n",
            "    accuracy                           0.47     13943\n",
            "   macro avg       0.65      0.46      0.41     13943\n",
            "weighted avg       0.65      0.47      0.43     13943\n",
            "\n",
            " \n",
            "Training time:  0.2882654666900635\n",
            " \n",
            "Test time:  1186.6810491085052\n"
          ]
        }
      ],
      "source": [
        "model_train(KNeighborsClassifier(n_neighbors=4, weights='distance'), (X_train_tfidf, X_test_tfidf, Y_train_tfidf,Y_test_tfidf), 'KNeighborsClassifier')"
      ]
    }
  ],
  "metadata": {
    "colab": {
      "machine_shape": "hm",
      "provenance": []
    },
    "kaggle": {
      "accelerator": "none",
      "dataSources": [
        {
          "datasetId": 1340873,
          "sourceId": 2231927,
          "sourceType": "datasetVersion"
        }
      ],
      "dockerImageVersionId": 30138,
      "isGpuEnabled": false,
      "isInternetEnabled": true,
      "language": "python",
      "sourceType": "notebook"
    },
    "kernelspec": {
      "display_name": "Python 3",
      "name": "python3"
    },
    "language_info": {
      "codemirror_mode": {
        "name": "ipython",
        "version": 3
      },
      "file_extension": ".py",
      "mimetype": "text/x-python",
      "name": "python",
      "nbconvert_exporter": "python",
      "pygments_lexer": "ipython3",
      "version": "3.10.11"
    }
  },
  "nbformat": 4,
  "nbformat_minor": 0
}
